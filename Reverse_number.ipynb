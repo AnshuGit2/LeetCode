{
 "cells": [
  {
   "cell_type": "code",
   "execution_count": null,
   "metadata": {},
   "outputs": [],
   "source": []
  },
  {
   "cell_type": "code",
   "execution_count": 38,
   "metadata": {},
   "outputs": [
    {
     "name": "stdout",
     "output_type": "stream",
     "text": [
      "Enter the number: 123\n",
      "321\n"
     ]
    }
   ],
   "source": [
    "# naive way\n",
    "\n",
    "num = input (\"Enter the number: \")\n",
    "rev_num = num [::-1]\n",
    "rev_number =int(rev_num)\n",
    "print (rev_num)"
   ]
  },
  {
   "cell_type": "code",
   "execution_count": 17,
   "metadata": {},
   "outputs": [
    {
     "name": "stdout",
     "output_type": "stream",
     "text": [
      "Enter the number: 10\n",
      "01\n"
     ]
    }
   ],
   "source": [
    "# another way \n",
    "print (input(\"Enter the number: \")[::-1])"
   ]
  },
  {
   "cell_type": "code",
   "execution_count": 20,
   "metadata": {},
   "outputs": [
    {
     "name": "stdout",
     "output_type": "stream",
     "text": [
      "1\n"
     ]
    }
   ],
   "source": [
    "# Pratice 1\n",
    "\n",
    "def reverse_signed(num):\n",
    "    sum=0\n",
    "    sign=1\n",
    "    if num<0:\n",
    "        sign=-1\n",
    "        num=num*-1\n",
    "    while num>0:\n",
    "        rem=num%10\n",
    "        sum=sum*10+rem\n",
    "        num=num//10\n",
    "    if not -2147483648<sum<2147483647:\n",
    "        return 0\n",
    "    return sign*sum\n",
    "\n",
    "print(reverse_signed(100))"
   ]
  },
  {
   "cell_type": "code",
   "execution_count": 37,
   "metadata": {},
   "outputs": [
    {
     "name": "stdout",
     "output_type": "stream",
     "text": [
      "1\n"
     ]
    }
   ],
   "source": [
    "# final\n",
    "\n",
    "class Solution(object):\n",
    "    def reverse(self, x):\n",
    "        \"\"\"\n",
    "        :type x: int\n",
    "        :rtype: int\n",
    "        \"\"\"\n",
    "        max_int = 2147483649\n",
    "        min_int = -2147483648\n",
    "        ans = int(str(abs(x))[::-1])\n",
    "        return ans * (abs(x)//x) if min_int < ans < max_int and ans else 0\n",
    "\n",
    "\n",
    "\n"
   ]
  },
  {
   "cell_type": "code",
   "execution_count": null,
   "metadata": {},
   "outputs": [],
   "source": []
  },
  {
   "cell_type": "code",
   "execution_count": null,
   "metadata": {},
   "outputs": [],
   "source": []
  }
 ],
 "metadata": {
  "kernelspec": {
   "display_name": "Python 3",
   "language": "python",
   "name": "python3"
  },
  "language_info": {
   "codemirror_mode": {
    "name": "ipython",
    "version": 3
   },
   "file_extension": ".py",
   "mimetype": "text/x-python",
   "name": "python",
   "nbconvert_exporter": "python",
   "pygments_lexer": "ipython3",
   "version": "3.8.5"
  }
 },
 "nbformat": 4,
 "nbformat_minor": 4
}
