{
 "cells": [
  {
   "cell_type": "code",
   "execution_count": 6,
   "metadata": {},
   "outputs": [
    {
     "name": "stdout",
     "output_type": "stream",
     "text": [
      "[1, 2, 3, 4, 5, 6, 3, 3, 3, 4, 5, 5, 5, 6]\n"
     ]
    }
   ],
   "source": [
    "class Solution(object):\n",
    "   def removeDuplicates(self, nums):\n",
    "      \"\"\"\n",
    "      :type nums: List[int]\n",
    "      :rtype: int\n",
    "      \"\"\"\n",
    "      if len(nums) == 0:\n",
    "         return 0\n",
    "      length = 1\n",
    "      previous = nums[0]\n",
    "      index = 1\n",
    "      for i in range(1,len(nums)):\n",
    "         if nums[i] != previous:\n",
    "            length += 1\n",
    "            previous = nums[i]\n",
    "            nums[index] = nums[i]\n",
    "            index+=1\n",
    "      return length\n",
    "#input_list = [1,1,2,2,2,3,3,3,3,4,5,5,5,6]\n",
    "ob1 = Solution()\n",
    "#print(ob1.removeDuplicates(input_list))\n",
    "print (input_list)"
   ]
  },
  {
   "cell_type": "code",
   "execution_count": 7,
   "metadata": {},
   "outputs": [],
   "source": [
    "class Solution(object):\n",
    "   def removeDuplicates(self, nums):\n",
    "      \"\"\"\n",
    "      :type nums: List[int]\n",
    "      :rtype: int\n",
    "      \"\"\"\n",
    "      if len(nums) == 0:\n",
    "         return 0\n",
    "      length = 1\n",
    "      previous = nums[0]\n",
    "      index = 1\n",
    "      for i in range(1,len(nums)):\n",
    "         if nums[i] != previous:\n",
    "            length += 1\n",
    "            previous = nums[i]\n",
    "            nums[index] = nums[i]\n",
    "            index+=1\n",
    "      return length\n",
    "\n",
    "ob1 = Solution()\n"
   ]
  },
  {
   "cell_type": "code",
   "execution_count": null,
   "metadata": {},
   "outputs": [],
   "source": []
  }
 ],
 "metadata": {
  "kernelspec": {
   "display_name": "Python 3",
   "language": "python",
   "name": "python3"
  },
  "language_info": {
   "codemirror_mode": {
    "name": "ipython",
    "version": 3
   },
   "file_extension": ".py",
   "mimetype": "text/x-python",
   "name": "python",
   "nbconvert_exporter": "python",
   "pygments_lexer": "ipython3",
   "version": "3.8.5"
  }
 },
 "nbformat": 4,
 "nbformat_minor": 4
}
