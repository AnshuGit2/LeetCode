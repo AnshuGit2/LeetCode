{
 "cells": [
  {
   "cell_type": "code",
   "execution_count": 2,
   "metadata": {},
   "outputs": [
    {
     "name": "stdout",
     "output_type": "stream",
     "text": [
      "Enter the Value:123\n",
      "value is not palindrom\n"
     ]
    }
   ],
   "source": [
    "# naive solution\n",
    "\n",
    "s = input (\"Enter the Value:\")\n",
    "reverse = s[::-1]\n",
    "if (s == reverse):\n",
    "    print (\"Value is palindrom\")\n",
    "else:\n",
    "    print (\"value is not palindrom\")\n"
   ]
  },
  {
   "cell_type": "code",
   "execution_count": 15,
   "metadata": {},
   "outputs": [],
   "source": [
    "class Solution:\n",
    "    def isPalindrome(self, x):\n",
    "        \n",
    "          \n",
    "        if x < 0:\n",
    "            return False\n",
    "        str_1 = str(abs(x))\n",
    "        str_2 = str_1[::-1]\n",
    "        if str_1 == str_2:\n",
    "            return True\n",
    "        else:\n",
    "            return False"
   ]
  },
  {
   "cell_type": "code",
   "execution_count": 8,
   "metadata": {},
   "outputs": [],
   "source": [
    "class Solution:\n",
    "    def isPalindrome (x):\n",
    "        str_1 = str(x)\n",
    "        str_2 = str_1[::-1]\n",
    "        if str_1 == str_2:\n",
    "            return True\n",
    "        else:\n",
    "            return False"
   ]
  },
  {
   "cell_type": "code",
   "execution_count": 1,
   "metadata": {},
   "outputs": [
    {
     "name": "stdout",
     "output_type": "stream",
     "text": [
      "Enter a string\n",
      "123\n",
      "False\n"
     ]
    }
   ],
   "source": [
    "def isPalindrome(s):\n",
    "   rev=s[::-1]\n",
    "   if(rev==s):\n",
    "      return True\n",
    "   return False\n",
    "print(\"Enter a string\")\n",
    "st=input()\n",
    "print(isPalindrome(st))"
   ]
  },
  {
   "cell_type": "code",
   "execution_count": null,
   "metadata": {},
   "outputs": [],
   "source": []
  },
  {
   "cell_type": "code",
   "execution_count": null,
   "metadata": {},
   "outputs": [],
   "source": []
  }
 ],
 "metadata": {
  "kernelspec": {
   "display_name": "Python 3",
   "language": "python",
   "name": "python3"
  },
  "language_info": {
   "codemirror_mode": {
    "name": "ipython",
    "version": 3
   },
   "file_extension": ".py",
   "mimetype": "text/x-python",
   "name": "python",
   "nbconvert_exporter": "python",
   "pygments_lexer": "ipython3",
   "version": "3.8.5"
  }
 },
 "nbformat": 4,
 "nbformat_minor": 4
}
